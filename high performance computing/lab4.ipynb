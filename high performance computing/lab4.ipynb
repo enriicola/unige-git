{
  "nbformat": 4,
  "nbformat_minor": 0,
  "metadata": {
    "colab": {
      "provenance": [],
      "gpuType": "T4"
    },
    "kernelspec": {
      "name": "python3",
      "display_name": "Python 3"
    },
    "language_info": {
      "name": "python"
    },
    "accelerator": "GPU"
  },
  "cells": [
    {
      "cell_type": "code",
      "execution_count": null,
      "metadata": {
        "colab": {
          "base_uri": "https://localhost:8080/"
        },
        "id": "rY-QUIxiKjsY",
        "outputId": "7afbaaf0-56c9-498d-a7b7-ef75c8a549a3"
      },
      "outputs": [
        {
          "output_type": "stream",
          "name": "stdout",
          "text": [
            "Linux 96c73ac51740 6.1.85+ #1 SMP PREEMPT_DYNAMIC Thu Jun 27 21:05:47 UTC 2024 x86_64 x86_64 x86_64 GNU/Linux\n",
            "DISTRIB_ID=Ubuntu\n",
            "DISTRIB_RELEASE=22.04\n",
            "DISTRIB_CODENAME=jammy\n",
            "DISTRIB_DESCRIPTION=\"Ubuntu 22.04.3 LTS\"\n",
            "PRETTY_NAME=\"Ubuntu 22.04.3 LTS\"\n",
            "NAME=\"Ubuntu\"\n",
            "VERSION_ID=\"22.04\"\n",
            "VERSION=\"22.04.3 LTS (Jammy Jellyfish)\"\n",
            "VERSION_CODENAME=jammy\n",
            "ID=ubuntu\n",
            "ID_LIKE=debian\n",
            "HOME_URL=\"https://www.ubuntu.com/\"\n",
            "SUPPORT_URL=\"https://help.ubuntu.com/\"\n",
            "BUG_REPORT_URL=\"https://bugs.launchpad.net/ubuntu/\"\n",
            "PRIVACY_POLICY_URL=\"https://www.ubuntu.com/legal/terms-and-policies/privacy-policy\"\n",
            "UBUNTU_CODENAME=jammy\n"
          ]
        }
      ],
      "source": [
        "!uname -a && cat /etc/*release"
      ]
    },
    {
      "cell_type": "code",
      "source": [
        "!pwd"
      ],
      "metadata": {
        "colab": {
          "base_uri": "https://localhost:8080/"
        },
        "id": "z9rZbO0rLGo3",
        "outputId": "67c58161-8a9f-4de8-bc9c-edcbaebbe10d"
      },
      "execution_count": null,
      "outputs": [
        {
          "output_type": "stream",
          "name": "stdout",
          "text": [
            "/content\n"
          ]
        }
      ]
    },
    {
      "cell_type": "code",
      "source": [
        "!ls -la"
      ],
      "metadata": {
        "colab": {
          "base_uri": "https://localhost:8080/"
        },
        "id": "V6l1Plr-LUwr",
        "outputId": "e5037b62-d2a2-41f2-b686-08d3f27a7365"
      },
      "execution_count": null,
      "outputs": [
        {
          "output_type": "stream",
          "name": "stdout",
          "text": [
            "total 16\n",
            "drwxr-xr-x 1 root root 4096 Nov 12 14:25 .\n",
            "drwxr-xr-x 1 root root 4096 Nov 14 10:14 ..\n",
            "drwxr-xr-x 4 root root 4096 Nov 12 14:24 .config\n",
            "drwxr-xr-x 1 root root 4096 Nov 12 14:25 sample_data\n"
          ]
        }
      ]
    },
    {
      "cell_type": "code",
      "source": [
        "!nvidia-smi"
      ],
      "metadata": {
        "colab": {
          "base_uri": "https://localhost:8080/"
        },
        "id": "5ziumN40LZ0-",
        "outputId": "94ef73be-0282-4544-a87d-3014a28ff811"
      },
      "execution_count": null,
      "outputs": [
        {
          "output_type": "stream",
          "name": "stdout",
          "text": [
            "Thu Nov 14 10:25:06 2024       \n",
            "+---------------------------------------------------------------------------------------+\n",
            "| NVIDIA-SMI 535.104.05             Driver Version: 535.104.05   CUDA Version: 12.2     |\n",
            "|-----------------------------------------+----------------------+----------------------+\n",
            "| GPU  Name                 Persistence-M | Bus-Id        Disp.A | Volatile Uncorr. ECC |\n",
            "| Fan  Temp   Perf          Pwr:Usage/Cap |         Memory-Usage | GPU-Util  Compute M. |\n",
            "|                                         |                      |               MIG M. |\n",
            "|=========================================+======================+======================|\n",
            "|   0  Tesla T4                       Off | 00000000:00:04.0 Off |                    0 |\n",
            "| N/A   36C    P8               9W /  70W |      0MiB / 15360MiB |      0%      Default |\n",
            "|                                         |                      |                  N/A |\n",
            "+-----------------------------------------+----------------------+----------------------+\n",
            "                                                                                         \n",
            "+---------------------------------------------------------------------------------------+\n",
            "| Processes:                                                                            |\n",
            "|  GPU   GI   CI        PID   Type   Process name                            GPU Memory |\n",
            "|        ID   ID                                                             Usage      |\n",
            "|=======================================================================================|\n",
            "|  No running processes found                                                           |\n",
            "+---------------------------------------------------------------------------------------+\n"
          ]
        }
      ]
    },
    {
      "cell_type": "code",
      "source": [
        "!nvcc vectoradd.c"
      ],
      "metadata": {
        "id": "ijjvogpVNyPW"
      },
      "execution_count": null,
      "outputs": []
    },
    {
      "cell_type": "code",
      "source": [
        "!./a.out"
      ],
      "metadata": {
        "colab": {
          "base_uri": "https://localhost:8080/"
        },
        "id": "ckKiES6POWJi",
        "outputId": "c2fb8833-393a-47d9-ff93-efb62e175f04"
      },
      "execution_count": null,
      "outputs": [
        {
          "output_type": "stream",
          "name": "stdout",
          "text": [
            "Time spent: 3319.09106445 ms\n",
            "3.000000 3.000000 3.000000\n"
          ]
        }
      ]
    },
    {
      "cell_type": "code",
      "source": [
        "!nvprof ./a.out"
      ],
      "metadata": {
        "colab": {
          "base_uri": "https://localhost:8080/"
        },
        "id": "7XYnfZ9uSQnC",
        "outputId": "b9ddc5cc-5070-4602-c1c8-12f6da161ac9"
      },
      "execution_count": null,
      "outputs": [
        {
          "output_type": "stream",
          "name": "stdout",
          "text": [
            "Time spent: 3325.94287109 ms\n",
            "3.000000 3.000000 3.000000\n",
            "======== Warning: No profile data collected.\n"
          ]
        }
      ]
    },
    {
      "cell_type": "code",
      "source": [
        "!nvcc vectoradd_cuda.cu && ./a.out"
      ],
      "metadata": {
        "colab": {
          "base_uri": "https://localhost:8080/"
        },
        "id": "iLi-x5YRPONN",
        "outputId": "1b26615c-38a1-4095-f299-c4c72bc2c268"
      },
      "execution_count": null,
      "outputs": [
        {
          "output_type": "stream",
          "name": "stdout",
          "text": [
            "3.000000 3.000000 3.000000\n",
            "Time to calculate results: 165.993256 ms.\n",
            "Time with I/O: 2926.636230 ms.\n"
          ]
        }
      ]
    },
    {
      "cell_type": "code",
      "source": [
        "!nvprof ./a.out"
      ],
      "metadata": {
        "colab": {
          "base_uri": "https://localhost:8080/"
        },
        "id": "qT02u-rnRx9q",
        "outputId": "db6e6802-16b4-40b2-bda4-762ac0568920"
      },
      "execution_count": null,
      "outputs": [
        {
          "output_type": "stream",
          "name": "stdout",
          "text": [
            "==8372== NVPROF is profiling process 8372, command: ./a.out\n",
            "3.000000 3.000000 3.000000\n",
            "Time to calculate results: 50.659714 ms.\n",
            "Time with I/O: 2861.985840 ms.\n",
            "==8372== Profiling application: ./a.out\n",
            "==8372== Profiling result:\n",
            "            Type  Time(%)      Time     Calls       Avg       Min       Max  Name\n",
            " GPU activities:   63.58%  1.80986s         2  904.93ms  883.53ms  926.34ms  [CUDA memcpy HtoD]\n",
            "                   34.74%  988.93ms         1  988.93ms  988.93ms  988.93ms  [CUDA memcpy DtoH]\n",
            "                    1.67%  47.622ms         1  47.622ms  47.622ms  47.622ms  gpuVectAdd(float*, float*, float*)\n",
            "      API calls:   93.08%  2.79962s         3  933.21ms  883.73ms  989.34ms  cudaMemcpy\n",
            "                    4.17%  125.50ms         4  31.376ms     767ns  125.50ms  cudaEventCreate\n",
            "                    1.58%  47.628ms         2  23.814ms  5.8250us  47.622ms  cudaEventSynchronize\n",
            "                    0.63%  19.042ms         3  6.3474ms  5.3602ms  7.2069ms  cudaFree\n",
            "                    0.38%  11.552ms         3  3.8508ms  3.4980ms  4.5467ms  cudaMalloc\n",
            "                    0.10%  3.0696ms         1  3.0696ms  3.0696ms  3.0696ms  cudaLaunchKernel\n",
            "                    0.04%  1.2375ms         4  309.36us  7.6430us  1.2043ms  cudaEventRecord\n",
            "                    0.00%  142.79us       114  1.2520us     143ns  54.894us  cuDeviceGetAttribute\n",
            "                    0.00%  11.025us         1  11.025us  11.025us  11.025us  cuDeviceGetName\n",
            "                    0.00%  6.3770us         2  3.1880us  2.4990us  3.8780us  cudaEventElapsedTime\n",
            "                    0.00%  6.2300us         1  6.2300us  6.2300us  6.2300us  cuDeviceGetPCIBusId\n",
            "                    0.00%  3.2760us         1  3.2760us  3.2760us  3.2760us  cuDeviceTotalMem\n",
            "                    0.00%  1.5280us         3     509ns     203ns  1.0230us  cuDeviceGetCount\n",
            "                    0.00%  1.1090us         2     554ns     182ns     927ns  cuDeviceGet\n",
            "                    0.00%     974ns         1     974ns     974ns     974ns  cuModuleGetLoadingMode\n",
            "                    0.00%     267ns         1     267ns     267ns     267ns  cuDeviceGetUuid\n"
          ]
        }
      ]
    }
  ]
}